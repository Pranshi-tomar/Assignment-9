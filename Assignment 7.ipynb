{
 "cells": [
  {
   "attachments": {},
   "cell_type": "markdown",
   "metadata": {},
   "source": [
    "Q1. Create a function which will take a list as an argument and return the product of all the numbers\n",
    "after creating a flat list.\n",
    "Use the below-given list as an argument for your function.\n",
    "list1 = [1,2,3,4, [44,55,66, True], False, (34,56,78,89,34), {1,2,3,3,2,1}, {1:34, \"key2\": [55, 67, 78, 89], 4: (45,\n",
    "22, 61, 34)}, [56, 'data science'], 'Machine Learning']\n",
    "Note: you must extract numeric keys and values of the dictionary also."
   ]
  },
  {
   "cell_type": "code",
   "execution_count": 1,
   "metadata": {},
   "outputs": [
    {
     "ename": "TypeError",
     "evalue": "reduce expected at least 2 arguments, got 1",
     "output_type": "error",
     "traceback": [
      "\u001b[1;31m---------------------------------------------------------------------------\u001b[0m",
      "\u001b[1;31mTypeError\u001b[0m                                 Traceback (most recent call last)",
      "Cell \u001b[1;32mIn[1], line 3\u001b[0m\n\u001b[0;32m      1\u001b[0m \u001b[39mfrom\u001b[39;00m \u001b[39mfunctools\u001b[39;00m \u001b[39mimport\u001b[39;00m reduce\n\u001b[0;32m      2\u001b[0m \u001b[39m#def fun1(my_list):\u001b[39;00m\n\u001b[1;32m----> 3\u001b[0m new_list\u001b[39m=\u001b[39mreduce(\u001b[39mlambda\u001b[39;49;00m x,y:x\u001b[39m*\u001b[39;49my \u001b[39mif\u001b[39;49;00m \u001b[39mtype\u001b[39;49m(x)\u001b[39m==\u001b[39;49m\u001b[39mint\u001b[39;49m \u001b[39mand\u001b[39;49;00m \u001b[39mtype\u001b[39;49m(y)\u001b[39m==\u001b[39;49m\u001b[39mint\u001b[39;49m \u001b[39melse\u001b[39;49;00m (\u001b[39m\"\u001b[39;49m\u001b[39m\"\u001b[39;49m),)\n\u001b[0;32m      4\u001b[0m my_list\u001b[39m=\u001b[39m[\u001b[39m1\u001b[39m,\u001b[39m2\u001b[39m,\u001b[39m3\u001b[39m,\u001b[39m4\u001b[39m, [\u001b[39m44\u001b[39m,\u001b[39m55\u001b[39m,\u001b[39m66\u001b[39m, \u001b[39mTrue\u001b[39;00m], \u001b[39mFalse\u001b[39;00m, (\u001b[39m34\u001b[39m,\u001b[39m56\u001b[39m,\u001b[39m78\u001b[39m,\u001b[39m89\u001b[39m,\u001b[39m34\u001b[39m), {\u001b[39m1\u001b[39m,\u001b[39m2\u001b[39m,\u001b[39m3\u001b[39m,\u001b[39m3\u001b[39m,\u001b[39m2\u001b[39m,\u001b[39m1\u001b[39m}, {\u001b[39m1\u001b[39m:\u001b[39m34\u001b[39m, \u001b[39m\"\u001b[39m\u001b[39mkey2\u001b[39m\u001b[39m\"\u001b[39m: [\u001b[39m55\u001b[39m, \u001b[39m67\u001b[39m, \u001b[39m78\u001b[39m, \u001b[39m89\u001b[39m], \u001b[39m4\u001b[39m: (\u001b[39m45\u001b[39m,\n\u001b[0;32m      5\u001b[0m \u001b[39m22\u001b[39m, \u001b[39m61\u001b[39m, \u001b[39m34\u001b[39m)}, [\u001b[39m56\u001b[39m, \u001b[39m'\u001b[39m\u001b[39mdata science\u001b[39m\u001b[39m'\u001b[39m], \u001b[39m'\u001b[39m\u001b[39mMachine Learning\u001b[39m\u001b[39m'\u001b[39m]\n\u001b[0;32m      6\u001b[0m reduce(\u001b[39mlambda\u001b[39;00m x,y:x\u001b[39m*\u001b[39my \u001b[39mif\u001b[39;00m (\u001b[39mtype\u001b[39m(x)\u001b[39m==\u001b[39m\u001b[39mint\u001b[39m \u001b[39mand\u001b[39;00m \u001b[39mtype\u001b[39m(y)\u001b[39m==\u001b[39m\u001b[39mint\u001b[39m) \u001b[39melse\u001b[39;00m (\u001b[39m\"\u001b[39m\u001b[39m\"\u001b[39m),my_list())\n",
      "\u001b[1;31mTypeError\u001b[0m: reduce expected at least 2 arguments, got 1"
     ]
    }
   ],
   "source": [
    "from functools import reduce\n",
    "#def fun1(my_list):\n",
    "new_list=reduce(lambda x,y:x*y if type(x)==int and type(y)==int else (\"\"),)\n",
    "my_list=[1,2,3,4, [44,55,66, True], False, (34,56,78,89,34), {1,2,3,3,2,1}, {1:34, \"key2\": [55, 67, 78, 89], 4: (45,\n",
    "22, 61, 34)}, [56, 'data science'], 'Machine Learning']\n",
    "reduce(lambda x,y:x*y if (type(x)==int and type(y)==int) else (\"\"),my_list())\n"
   ]
  },
  {
   "cell_type": "code",
   "execution_count": 2,
   "metadata": {},
   "outputs": [
    {
     "ename": "TypeError",
     "evalue": "'list' object cannot be interpreted as an integer",
     "output_type": "error",
     "traceback": [
      "\u001b[1;31m---------------------------------------------------------------------------\u001b[0m",
      "\u001b[1;31mTypeError\u001b[0m                                 Traceback (most recent call last)",
      "Cell \u001b[1;32mIn[2], line 4\u001b[0m\n\u001b[0;32m      1\u001b[0m my_list\u001b[39m=\u001b[39mmy_list\u001b[39m=\u001b[39m[\u001b[39m1\u001b[39m,\u001b[39m2\u001b[39m,\u001b[39m3\u001b[39m,\u001b[39m4\u001b[39m, [\u001b[39m44\u001b[39m,\u001b[39m55\u001b[39m,\u001b[39m66\u001b[39m, \u001b[39mTrue\u001b[39;00m], \u001b[39mFalse\u001b[39;00m, (\u001b[39m34\u001b[39m,\u001b[39m56\u001b[39m,\u001b[39m78\u001b[39m,\u001b[39m89\u001b[39m,\u001b[39m34\u001b[39m), {\u001b[39m1\u001b[39m,\u001b[39m2\u001b[39m,\u001b[39m3\u001b[39m,\u001b[39m3\u001b[39m,\u001b[39m2\u001b[39m,\u001b[39m1\u001b[39m}, {\u001b[39m1\u001b[39m:\u001b[39m34\u001b[39m, \u001b[39m\"\u001b[39m\u001b[39mkey2\u001b[39m\u001b[39m\"\u001b[39m: [\u001b[39m55\u001b[39m, \u001b[39m67\u001b[39m, \u001b[39m78\u001b[39m, \u001b[39m89\u001b[39m], \u001b[39m4\u001b[39m: (\u001b[39m45\u001b[39m,\n\u001b[0;32m      2\u001b[0m \u001b[39m22\u001b[39m, \u001b[39m61\u001b[39m, \u001b[39m34\u001b[39m)}, [\u001b[39m56\u001b[39m, \u001b[39m'\u001b[39m\u001b[39mdata science\u001b[39m\u001b[39m'\u001b[39m], \u001b[39m'\u001b[39m\u001b[39mMachine Learning\u001b[39m\u001b[39m'\u001b[39m]\n\u001b[0;32m      3\u001b[0m flat_list\u001b[39m=\u001b[39m[]\n\u001b[1;32m----> 4\u001b[0m \u001b[39mfor\u001b[39;00m sublist \u001b[39min\u001b[39;00m \u001b[39mrange\u001b[39;49m(my_list):\n\u001b[0;32m      5\u001b[0m     \u001b[39mfor\u001b[39;00m num \u001b[39min\u001b[39;00m sublist:\n\u001b[0;32m      6\u001b[0m         flat_list\u001b[39m.\u001b[39mappend(num)\n",
      "\u001b[1;31mTypeError\u001b[0m: 'list' object cannot be interpreted as an integer"
     ]
    }
   ],
   "source": [
    "my_list=my_list=[1,2,3,4, [44,55,66, True], False, (34,56,78,89,34), {1,2,3,3,2,1}, {1:34, \"key2\": [55, 67, 78, 89], 4: (45,\n",
    "22, 61, 34)}, [56, 'data science'], 'Machine Learning']\n",
    "flat_list=[]\n",
    "for sublist in range(my_list):\n",
    "    for num in sublist:\n",
    "        flat_list.append(num)\n",
    "print(flat_list)"
   ]
  },
  {
   "cell_type": "code",
   "execution_count": 3,
   "metadata": {},
   "outputs": [],
   "source": [
    "def fun1(*args):\n",
    "    new_list=list(args)\n",
    "    for i in new_list:\n",
    "        if type(i)==int and type(i)==int:\n",
    "            return i"
   ]
  },
  {
   "cell_type": "code",
   "execution_count": null,
   "metadata": {},
   "outputs": [],
   "source": []
  },
  {
   "cell_type": "code",
   "execution_count": 6,
   "metadata": {},
   "outputs": [
    {
     "data": {
      "text/plain": [
       "1"
      ]
     },
     "execution_count": 6,
     "metadata": {},
     "output_type": "execute_result"
    }
   ],
   "source": [
    "fun1(1,2,3,4, [44,55,66, True], False, (34,56,78,89,34), {1,2,3,3,2,1}, {1:34, \"key2\": [55, 67, 78, 89], 4: (45,\n",
    "22, 61, 34)}, [56, 'data science'], 'Machine Learning')"
   ]
  },
  {
   "attachments": {},
   "cell_type": "markdown",
   "metadata": {},
   "source": [
    "Q2. Write a python program for encrypting a message sent to you by your friend. The logic of encryption\n",
    "should be such that, for a the output should be z. For b, the output should be y. For c, the output should\n",
    "be x respectively. Also, the whitespace should be replaced with a dollar sign. Keep the punctuation\n",
    "marks unchanged.\n",
    "Input Sentence: I want to become a Data Scientist.\n",
    "Encrypt the above input sentence using the program you just created.\n",
    "Note: Convert the given input sentence into lowercase before encrypting. The final output should be\n",
    "lowercase."
   ]
  },
  {
   "cell_type": "code",
   "execution_count": 7,
   "metadata": {},
   "outputs": [
    {
     "name": "stdout",
     "output_type": "stream",
     "text": [
      "original string =  I want to become a Data Scientiest\n",
      "changed string =  i wznt to yexome z dztz sxientiest\n"
     ]
    }
   ],
   "source": [
    "string=\"I want to become a Data Scientiest\"\n",
    "print(\"original string = \",string)\n",
    "remove={\"a\":\"z\",\"b\":\"y\",\"c\":\"x\"}\n",
    "for char in remove.keys():\n",
    "    string= string.replace(char,remove[char])\n",
    "print(\"changed string = \",string.lower())    "
   ]
  }
 ],
 "metadata": {
  "kernelspec": {
   "display_name": "Python 3",
   "language": "python",
   "name": "python3"
  },
  "language_info": {
   "codemirror_mode": {
    "name": "ipython",
    "version": 3
   },
   "file_extension": ".py",
   "mimetype": "text/x-python",
   "name": "python",
   "nbconvert_exporter": "python",
   "pygments_lexer": "ipython3",
   "version": "3.11.2"
  },
  "orig_nbformat": 4
 },
 "nbformat": 4,
 "nbformat_minor": 2
}
